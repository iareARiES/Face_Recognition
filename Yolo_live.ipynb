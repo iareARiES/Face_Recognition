{
 "cells": [
  {
   "cell_type": "code",
   "execution_count": 18,
   "id": "2a68011e",
   "metadata": {},
   "outputs": [
    {
     "name": "stdout",
     "output_type": "stream",
     "text": [
      "E:\\CSIR\\gpuenv\\Scripts\\python.exe\n"
     ]
    }
   ],
   "source": [
    "import sys\n",
    "print(sys.executable)\n"
   ]
  },
  {
   "cell_type": "code",
   "execution_count": 19,
   "id": "113ba3c6",
   "metadata": {},
   "outputs": [
    {
     "name": "stdout",
     "output_type": "stream",
     "text": [
      "input_name: images\n"
     ]
    }
   ],
   "source": [
    "import cv2\n",
    "import numpy as np\n",
    "import onnxruntime as ort\n",
    "\n",
    "# Load ONNX model\n",
    "onnx_model_path = \"best.onnx\"\n",
    "session = ort.InferenceSession(onnx_model_path)\n",
    "input_name = session.get_inputs()[0].name\n",
    "\n",
    "print(\"input_name:\",input_name)\n"
   ]
  },
  {
   "cell_type": "markdown",
   "id": "f57b680e",
   "metadata": {},
   "source": [
    "What it does: PREPROCESSING\n",
    "\n",
    "- Resizes the input to 640×640 → default input size for YOLOv8.\n",
    "- Converts BGR → RGB → as PyTorch models are trained on RGB.\n",
    "- Normalizes pixel values to [0, 1].\n",
    "- Transposes shape from (H, W, C) → (C, H, W).\n",
    "- Adds batch dimension: (1, 3, 640, 640)."
   ]
  },
  {
   "cell_type": "code",
   "execution_count": 20,
   "id": "c825def3",
   "metadata": {},
   "outputs": [],
   "source": [
    "def preprocess(frame, size=320):\n",
    "    img = cv2.resize(frame, (size, size))\n",
    "    img = cv2.cvtColor(img, cv2.COLOR_BGR2RGB)\n",
    "    img = img.astype(np.float32) / 255.0\n",
    "    img = np.transpose(img, (2, 0, 1))  # (H, W, C) → (C, H, W)\n",
    "    img = np.expand_dims(img, axis=0).copy()  # Add batch dimension\n",
    "    return img"
   ]
  },
  {
   "cell_type": "code",
   "execution_count": 25,
   "id": "947ee53d",
   "metadata": {},
   "outputs": [],
   "source": [
    "def postprocess(outputs, orig_frame, input_size=320, conf_thres=0.3, iou_thres=0.4):\n",
    "    predictions = outputs[0]  # (1, 5, 8400)\n",
    "    predictions = np.squeeze(predictions)  # (5, 8400)\n",
    "\n",
    "    x_center = predictions[0]\n",
    "    y_center = predictions[1]\n",
    "    width    = predictions[2]\n",
    "    height   = predictions[3]\n",
    "    conf     = predictions[4]\n",
    "\n",
    "    boxes = []\n",
    "    confidences = []\n",
    "\n",
    "    orig_h, orig_w = orig_frame.shape[:2]\n",
    "    scale_x = orig_w / input_size\n",
    "    scale_y = orig_h / input_size\n",
    "\n",
    "    for i in range(predictions.shape[1]):\n",
    "        if conf[i] < conf_thres:\n",
    "            continue\n",
    "\n",
    "        w = width[i]\n",
    "        h = height[i]\n",
    "        x = x_center[i] - w / 2\n",
    "        y = y_center[i] - h / 2\n",
    "\n",
    "        x1 = int(x * scale_x)\n",
    "        y1 = int(y * scale_y)\n",
    "        w_scaled = int(w * scale_x)\n",
    "        h_scaled = int(h * scale_y)\n",
    "\n",
    "        boxes.append([x1, y1, w_scaled, h_scaled])\n",
    "        confidences.append(float(conf[i]))\n",
    "\n",
    "    # Apply Non-Maximum Suppression\n",
    "    indices = cv2.dnn.NMSBoxes(boxes, confidences, conf_thres, iou_thres)\n",
    "\n",
    "    for i in indices:\n",
    "        i = i[0] if isinstance(i, (tuple, list, np.ndarray)) else i\n",
    "        box = boxes[i]\n",
    "        x1, y1, w, h = box\n",
    "        x2 = x1 + w\n",
    "        y2 = y1 + h\n",
    "\n",
    "        score_text = f\"Face: {confidences[i] * 100:.1f}%\"\n",
    "        cv2.rectangle(orig_frame, (x1, y1), (x2, y2), (0, 255, 0), 2)\n",
    "        cv2.putText(orig_frame, score_text, (x1, y1 - 10),\n",
    "                    cv2.FONT_HERSHEY_SIMPLEX, 0.5, (0, 255, 0), 1)\n",
    "\n",
    "    return orig_frame\n"
   ]
  },
  {
   "cell_type": "code",
   "execution_count": 26,
   "id": "512a67d6",
   "metadata": {},
   "outputs": [],
   "source": [
    "# Webcam setup\n",
    "cap = cv2.VideoCapture(0)\n",
    "if not cap.isOpened():\n",
    "    print(\"Error: Could not open webcam.\")\n",
    "    exit()\n",
    "\n",
    "# Set inference resolution (try 320, 416, 256 — test on your Pi)\n",
    "inference_size = 320\n",
    "\n",
    "while True:\n",
    "    ret, frame = cap.read()\n",
    "    if not ret:\n",
    "        break\n",
    "\n",
    "    frame = cv2.flip(frame, 1)  # Mirror effect for webcam\n",
    "\n",
    "    # Preprocess resized frame for model input\n",
    "    resized_frame = cv2.resize(frame, (inference_size, inference_size))\n",
    "    input_tensor = preprocess(resized_frame, size=inference_size)\n",
    "\n",
    "    # Run inference\n",
    "    outputs = session.run(None, {input_name: input_tensor})\n",
    "\n",
    "    # Postprocess and draw on original frame\n",
    "    annotated = postprocess(outputs, frame, input_size=inference_size)\n",
    "\n",
    "    cv2.imshow(\"YOLOv8 ONNX Face Detection\", annotated)\n",
    "\n",
    "    if cv2.waitKey(1) & 0xFF == ord(\"q\"):\n",
    "        break\n",
    "\n",
    "cap.release()\n",
    "cv2.destroyAllWindows()"
   ]
  },
  {
   "cell_type": "code",
   "execution_count": null,
   "id": "a63f9090",
   "metadata": {},
   "outputs": [],
   "source": []
  }
 ],
 "metadata": {
  "kernelspec": {
   "display_name": "Python (gpuenv)",
   "language": "python",
   "name": "gpuenv"
  },
  "language_info": {
   "codemirror_mode": {
    "name": "ipython",
    "version": 3
   },
   "file_extension": ".py",
   "mimetype": "text/x-python",
   "name": "python",
   "nbconvert_exporter": "python",
   "pygments_lexer": "ipython3",
   "version": "3.12.3"
  }
 },
 "nbformat": 4,
 "nbformat_minor": 5
}
